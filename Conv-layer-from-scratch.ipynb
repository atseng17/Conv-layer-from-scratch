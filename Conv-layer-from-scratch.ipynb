{
 "cells": [
  {
   "cell_type": "markdown",
   "id": "8537975a",
   "metadata": {},
   "source": [
    "# Convolution layer from scratch (The forward pass)\n",
    "\n",
    "In this example we first try to implement the conv forward function for single channel images, then we move on to RGB images."
   ]
  },
  {
   "cell_type": "markdown",
   "id": "ef469b15",
   "metadata": {},
   "source": [
    "### Single channel convolution"
   ]
  },
  {
   "cell_type": "code",
   "execution_count": 1,
   "id": "0eea2007",
   "metadata": {},
   "outputs": [],
   "source": [
    "import numpy as np\n",
    "def conv_2d(x, kernel, bias, Padding=0, stride=1):\n",
    "    kernel_shape = kernel.shape[0]\n",
    "    output_shape = int((x.shape[0] +2 * Padding - kernel_shape ) / stride + 1)\n",
    "    result = np.zeros((output_shape, output_shape))\n",
    "    for row in range((x.shape[0] +2 * Padding -kernel_shape)//stride + 1):\n",
    "        for col in range((x.shape[1] +2 * Padding -kernel_shape)//stride + 1):\n",
    "            window = x[row: row + kernel_shape, col: col + kernel_shape]\n",
    "            result[row, col] = np.sum(np.multiply(kernel,window))\n",
    "    return result + bias"
   ]
  },
  {
   "cell_type": "code",
   "execution_count": 2,
   "id": "18241e1d",
   "metadata": {},
   "outputs": [
    {
     "name": "stdout",
     "output_type": "stream",
     "text": [
      "input_matrix.shape (3, 3)\n",
      "kernel.shape (2, 2)\n",
      "bias.shape (1,)\n"
     ]
    }
   ],
   "source": [
    "input_matrix = np.array([[3., 9., 0.],[2., 8., 1.],[1., 4., 8.]])\n",
    "kernel = np.array([[8., 9.],[4., 4.]])\n",
    "bias = np.array([0.06])\n",
    "print('input_matrix.shape',input_matrix.shape)\n",
    "print('kernel.shape',kernel.shape)\n",
    "print('bias.shape',bias.shape)"
   ]
  },
  {
   "cell_type": "code",
   "execution_count": 3,
   "id": "495b7210",
   "metadata": {},
   "outputs": [],
   "source": [
    "def im2col(x, kernel):\n",
    "    kernel_shape = kernel.shape[0]\n",
    "    rows = []\n",
    "    \n",
    "    # Assuming Padding = 0, stride = 1\n",
    "    for row in range(x.shape[0] - 1):\n",
    "        for col in range(x.shape[1] - 1):\n",
    "            window = x[row: row + kernel_shape, col: col + kernel_shape]\n",
    "            rows.append(window.flatten())\n",
    "            \n",
    "    return np.transpose(np.array(rows))"
   ]
  },
  {
   "cell_type": "code",
   "execution_count": 4,
   "id": "2f9479d8",
   "metadata": {},
   "outputs": [
    {
     "name": "stdout",
     "output_type": "stream",
     "text": [
      "im2col_matrix.shape (4, 4)\n",
      "kernel.flatten().shape (4,)\n",
      "[[145.06 108.06]\n",
      " [108.06 121.06]]\n",
      "True\n"
     ]
    }
   ],
   "source": [
    "output_shape = (input_matrix.shape[0] - kernel.shape[0]) + 1\n",
    "im2col_matrix = im2col(input_matrix, kernel) \n",
    "print('im2col_matrix.shape',im2col_matrix.shape)\n",
    "print('kernel.flatten().shape',kernel.flatten().shape)\n",
    "im2col_conv = np.dot(kernel.flatten(), im2col_matrix) + bias\n",
    "im2col_conv = im2col_conv.reshape(output_shape,output_shape)\n",
    "print(im2col_conv)\n",
    "\n",
    "naive_conv_op = conv_2d(input_matrix, kernel, bias)\n",
    "print(np.array_equal(im2col_conv,naive_conv_op))"
   ]
  },
  {
   "cell_type": "markdown",
   "id": "d7bce373",
   "metadata": {},
   "source": [
    "### Single channel max pooling"
   ]
  },
  {
   "cell_type": "code",
   "execution_count": 5,
   "id": "3126d76a",
   "metadata": {},
   "outputs": [],
   "source": [
    "def maxpool_2d(x, kernelsz, stride=2):\n",
    "    kernel_shape = kernelsz[0]\n",
    "#     output_shape = int((x.shape[0] +2 * Padding - kernel_shape ) / stride + 1)\n",
    "    output_shape = int((x.shape[0] - kernel_shape ) / stride + 1)\n",
    "    result = np.zeros((output_shape, output_shape))\n",
    "    for row in range((x.shape[0] - kernel_shape)//stride+1):\n",
    "        for col in range((x.shape[1] - kernel_shape)//stride+1):\n",
    "            window = x[row*stride: row*stride + kernel_shape, col*stride: col*stride + kernel_shape]\n",
    "            result[row, col] = np.max(window)\n",
    "    return result\n",
    "input_matrix = np.array([[3., 9., 0., 4.],[2., 8., 1., 1.],[1., 4., 8., 1.],[7., 4., 8., 9.]])\n",
    "naive_pool_op = maxpool_2d(input_matrix, (2,2))"
   ]
  },
  {
   "cell_type": "code",
   "execution_count": 6,
   "id": "773addd2",
   "metadata": {},
   "outputs": [
    {
     "data": {
      "text/plain": [
       "array([[3., 9., 0., 4.],\n",
       "       [2., 8., 1., 1.],\n",
       "       [1., 4., 8., 1.],\n",
       "       [7., 4., 8., 9.]])"
      ]
     },
     "execution_count": 6,
     "metadata": {},
     "output_type": "execute_result"
    }
   ],
   "source": [
    "input_matrix"
   ]
  },
  {
   "cell_type": "code",
   "execution_count": 7,
   "id": "77c5004d",
   "metadata": {},
   "outputs": [
    {
     "data": {
      "text/plain": [
       "array([[9., 4.],\n",
       "       [7., 9.]])"
      ]
     },
     "execution_count": 7,
     "metadata": {},
     "output_type": "execute_result"
    }
   ],
   "source": [
    "naive_pool_op"
   ]
  },
  {
   "cell_type": "code",
   "execution_count": null,
   "id": "62a53cc6",
   "metadata": {},
   "outputs": [],
   "source": []
  }
 ],
 "metadata": {
  "kernelspec": {
   "display_name": "Python 3",
   "language": "python",
   "name": "python3"
  },
  "language_info": {
   "codemirror_mode": {
    "name": "ipython",
    "version": 3
   },
   "file_extension": ".py",
   "mimetype": "text/x-python",
   "name": "python",
   "nbconvert_exporter": "python",
   "pygments_lexer": "ipython3",
   "version": "3.8.8"
  }
 },
 "nbformat": 4,
 "nbformat_minor": 5
}
